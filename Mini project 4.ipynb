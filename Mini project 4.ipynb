{
 "cells": [
  {
   "cell_type": "markdown",
   "id": "74b5d472",
   "metadata": {},
   "source": [
    "# Мини проект 1"
   ]
  },
  {
   "cell_type": "markdown",
   "id": "cc4f6ca8",
   "metadata": {},
   "source": [
    "Вам дан файл users.txt. Вы должны сделать следующие действия:\n",
    "\n",
    "1) Прочитать этот файл построчно. Пожалуйста, используйте для этого try catch. Если файл не найден, напечатайте следующий текст: «the file that you would like to read is not found». Для любых других ошибок, пожалуйста, напечатайте следующее сообщение: \"some error occured\"\n",
    "     \n",
    "     \n",
    "2) Создайте класс Users со следующими атрибутами и функциями:\n",
    "\n",
    "     a) имя\n",
    "     \n",
    "     b) фамилия\n",
    "     \n",
    "     c) год рождения\n",
    "     \n",
    "     d) адрес электронной почты\n",
    "     \n",
    "     e) getAge(): возвращает возраст пользователя, принимая во внимание, что текущий год 2023\n",
    "     \n",
    "     \n",
    "3) преобразовать каждую строку файла в объект класса Users и сохранить их все в списке. Чтобы разделить слова, разделенные запятой, используйте функцию split(). Например, если: s = \"a,b,c\", тогда t = s.split(',') вернет ['a', 'b', 'c']. Таким образом разделите данные в каждой строке на отдельные части и присвойте эти значения атрибутам класса «Users».\n",
    "\n",
    "\n",
    "4) написать функцию filter(low, high, users), которая будет принимать параметры по умолчанию \"low\"=30, \"high\"=50 и простой параметр - список объектов класса Users. Функция должна пройтись по всем пользователям и проверить возраст с параметрами low и high. Мы должны вернуть только тех пользователей, чей возраст выше нижнего параметра low и ниже верхнего параметра high. Распечатайте их адрес электронной почты и возраст. Пожалуйста, разделите данные (адрес электронной почты и возраст) запятой. Затем вызовите эту функцию."
   ]
  },
  {
   "cell_type": "code",
   "execution_count": 1,
   "id": "1e04f52f-a744-4149-a0b3-f44a13739069",
   "metadata": {},
   "outputs": [],
   "source": [
    "# Задание №1"
   ]
  },
  {
   "cell_type": "code",
   "execution_count": 10,
   "id": "d81e416d-3e3d-46d4-bcaf-ba04ddb36cdd",
   "metadata": {},
   "outputs": [],
   "source": [
    "def read_file():\n",
    "    while True:\n",
    "        file_name = input(\"Введите имя файла или 'exit' для выхода: \")\n",
    "        if file_name == 'exit':\n",
    "            print(\"Выход из программы.\")\n",
    "            break\n",
    "        try:\n",
    "            with open (file_name, 'r') as file:\n",
    "                print(file.read())\n",
    "            break\n",
    "        except FileNotFoundError:\n",
    "            print(\"the file that you would like to read is not found.\")\n",
    "        else:\n",
    "            print(\"some error occured\")"
   ]
  },
  {
   "cell_type": "code",
   "execution_count": 11,
   "id": "e1a04ec1-a27d-4625-a164-06a538446fd1",
   "metadata": {},
   "outputs": [
    {
     "name": "stdin",
     "output_type": "stream",
     "text": [
      "Введите имя файла или 'exit' для выхода:  users.txt\n"
     ]
    },
    {
     "name": "stdout",
     "output_type": "stream",
     "text": [
      "1,Magzhan,Kairanbay,magzhan.kairanbay@gmail.com,1991\n",
      "2,John,See,john.see@gmail.com,1981\n",
      "3,Lim,Kim,lim.kim@gmail.com,1997\n",
      "4,Andrew,Ng,andrew.ng@gmail.com,1971\n",
      "5,Andrey,Karpathy,andrey.karpathy@gmail.com,1981\n",
      "6,Jackie,Chan,jeckie.chan@gmail.com,1951\n",
      "7,Clarence,Lim,clarence.lim@gmail.com,1985\n",
      "8,Ryan,Jack,ryan.jack@gmail.com,1994\n",
      "9,Jonattan,Clark,jonattan.clark@gmail.com,2000\n",
      "10,Chris,Brown,chris.brown@gmail.com,1989\n",
      "11,Justin,Bieber,justin.bieber@gmail.com,1992\n"
     ]
    }
   ],
   "source": [
    "read_file()"
   ]
  },
  {
   "cell_type": "code",
   "execution_count": 3,
   "id": "7b08d117-8f3d-4799-8a2b-88c67d9be698",
   "metadata": {},
   "outputs": [],
   "source": [
    "# Задание №2"
   ]
  },
  {
   "cell_type": "code",
   "execution_count": 12,
   "id": "f1d3fbe6-3f01-4fa7-8ec1-e3dca2ec4a05",
   "metadata": {},
   "outputs": [],
   "source": [
    "class Users:\n",
    "    def __init__(self, name, lastname, email, birth_year):\n",
    "        self.name = name\n",
    "        self.lastname = lastname\n",
    "        self.email = email\n",
    "        self.birth_year = int(birth_year)\n",
    "        \n",
    "    def __str__(self):\n",
    "        return f\"{self.name}, {self.lastname}, {self.email}, {self.birth_year}\"\n",
    "        \n",
    "    def getAge(self):\n",
    "        current_year = 2024\n",
    "        return current_year - self.birth_year\n",
    "\n",
    "    def to_list(self):\n",
    "        return [self.name, self.lastname, self.email, str(self.birth_year)]"
   ]
  },
  {
   "cell_type": "code",
   "execution_count": 13,
   "id": "65c75fbc-adfb-48db-ae67-5731d53053c1",
   "metadata": {},
   "outputs": [
    {
     "name": "stdout",
     "output_type": "stream",
     "text": [
      "Возраст пользователя A B равно 24 лет\n"
     ]
    }
   ],
   "source": [
    "user = Users(\"A\" , \"B\", \"ba@gmail.com\", 2000)\n",
    "print(f\"Возраст пользователя {user.name} {user.lastname} равно {user.getAge()} лет\")"
   ]
  },
  {
   "cell_type": "code",
   "execution_count": 14,
   "id": "85c60266-7a96-4c59-92cb-f75b492b0853",
   "metadata": {},
   "outputs": [],
   "source": [
    "# Задание №3"
   ]
  },
  {
   "cell_type": "code",
   "execution_count": 16,
   "id": "6e86e42b-ce26-4848-9d2b-347fa2646a5f",
   "metadata": {},
   "outputs": [
    {
     "name": "stdout",
     "output_type": "stream",
     "text": [
      "Magzhan, Kairanbay, magzhan.kairanbay@gmail.com, 1991\n",
      "John, See, john.see@gmail.com, 1981\n",
      "Lim, Kim, lim.kim@gmail.com, 1997\n",
      "Andrew, Ng, andrew.ng@gmail.com, 1971\n",
      "Andrey, Karpathy, andrey.karpathy@gmail.com, 1981\n",
      "Jackie, Chan, jeckie.chan@gmail.com, 1951\n",
      "Clarence, Lim, clarence.lim@gmail.com, 1985\n",
      "Ryan, Jack, ryan.jack@gmail.com, 1994\n",
      "Jonattan, Clark, jonattan.clark@gmail.com, 2000\n",
      "Chris, Brown, chris.brown@gmail.com, 1989\n",
      "Justin, Bieber, justin.bieber@gmail.com, 1992\n"
     ]
    }
   ],
   "source": [
    "def create_users_from_file(filename):\n",
    "    users_list = []\n",
    "    try:\n",
    "        with open(filename, 'r') as file:\n",
    "            for line in file:\n",
    "                try:\n",
    "                    id, name, surname, email, birth_year = line.strip().split(',')\n",
    "                    user = Users(name, surname, email, birth_year)\n",
    "                    users_list.append(user)\n",
    "                except ValueError:\n",
    "                    print(f\"Skipping line due to incorrect format: {line.strip()}\")\n",
    "    except FileNotFoundError:\n",
    "        print(\"The file that you would like to read is not found\")\n",
    "    except Exception as e:\n",
    "        print(f\"Some error occurred: {e}\")\n",
    "    return users_list\n",
    "\n",
    "filename = \"users.txt\"\n",
    "users = create_users_from_file(filename)\n",
    "\n",
    "for user in users:\n",
    "    print(user)"
   ]
  },
  {
   "cell_type": "code",
   "execution_count": 5,
   "id": "fa921ba3-5706-4267-8d66-f73baceb5893",
   "metadata": {},
   "outputs": [],
   "source": [
    "# Задание №4"
   ]
  },
  {
   "cell_type": "code",
   "execution_count": 19,
   "id": "dec2b624-0270-4c1f-a7ff-141248404077",
   "metadata": {},
   "outputs": [],
   "source": [
    "def filter_users(users, low=30, high=50):\n",
    "    for user in users:\n",
    "        age = user.getAge()\n",
    "        if low < age < high:\n",
    "            print(f\"{user.email}, {age}\")"
   ]
  },
  {
   "cell_type": "code",
   "execution_count": 20,
   "id": "9c64b317-1302-4975-a782-2fde4e75c174",
   "metadata": {},
   "outputs": [
    {
     "name": "stdout",
     "output_type": "stream",
     "text": [
      "magzhan.kairanbay@gmail.com, 33\n",
      "john.see@gmail.com, 43\n",
      "andrey.karpathy@gmail.com, 43\n",
      "clarence.lim@gmail.com, 39\n",
      "chris.brown@gmail.com, 35\n",
      "justin.bieber@gmail.com, 32\n"
     ]
    }
   ],
   "source": [
    "filter_users(users)"
   ]
  },
  {
   "cell_type": "code",
   "execution_count": null,
   "id": "bbff6bd9-d3a6-4b45-9953-77ac57b75215",
   "metadata": {},
   "outputs": [],
   "source": []
  }
 ],
 "metadata": {
  "kernelspec": {
   "display_name": "Python 3 (ipykernel)",
   "language": "python",
   "name": "python3"
  },
  "language_info": {
   "codemirror_mode": {
    "name": "ipython",
    "version": 3
   },
   "file_extension": ".py",
   "mimetype": "text/x-python",
   "name": "python",
   "nbconvert_exporter": "python",
   "pygments_lexer": "ipython3",
   "version": "3.12.3"
  }
 },
 "nbformat": 4,
 "nbformat_minor": 5
}
